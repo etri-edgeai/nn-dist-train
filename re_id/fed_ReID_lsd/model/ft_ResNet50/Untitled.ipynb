{
 "cells": [
  {
   "cell_type": "code",
   "execution_count": 1,
   "id": "996196ce",
   "metadata": {},
   "outputs": [],
   "source": [
    "import scipy.io\n",
    "mat=scipy.io.loadmat('pytorch_result.mat')"
   ]
  },
  {
   "cell_type": "code",
   "execution_count": 2,
   "id": "0ba7afa3",
   "metadata": {},
   "outputs": [
    {
     "name": "stdout",
     "output_type": "stream",
     "text": [
      "{'__header__': b'MATLAB 5.0 MAT-file Platform: posix, Created on: Mon Aug 15 14:47:10 2022', '__version__': '1.0', '__globals__': [], 'gallery_f': array([[-0.0551682 , -0.10217909, -0.00195091, ..., -0.04992639,\n",
      "         0.0401199 , -0.07620534],\n",
      "       [-0.051277  , -0.12174299,  0.01264882, ..., -0.05693234,\n",
      "         0.05287623, -0.09658898],\n",
      "       [-0.06045096, -0.09736696,  0.00313201, ..., -0.05239765,\n",
      "         0.03624761, -0.06864395],\n",
      "       ...,\n",
      "       [ 0.08029704,  0.04326934, -0.02646503, ...,  0.05188608,\n",
      "         0.01532121, -0.02870378],\n",
      "       [ 0.09026349,  0.04167466, -0.02438998, ...,  0.0360211 ,\n",
      "         0.00362166, -0.02276116],\n",
      "       [ 0.08727663,  0.03566415, -0.02770524, ...,  0.01906428,\n",
      "         0.01808896, -0.04868772]], dtype=float32), 'gallery_label': array([[   0,    0,    0, ..., 3059, 3059, 3059]]), 'gallery_cam': array([[1, 1, 1, ..., 6, 6, 6]]), 'query_f': array([[-0.09000533, -0.1053952 ,  0.05383116, ..., -0.04044245,\n",
      "        -0.01539091, -0.09511654],\n",
      "       [-0.07708967, -0.11440857,  0.04030153, ..., -0.00959465,\n",
      "        -0.0007446 , -0.10025294],\n",
      "       [-0.02286767, -0.07917941,  0.01587511, ..., -0.04504453,\n",
      "         0.05231855, -0.06434444],\n",
      "       ...,\n",
      "       [ 0.00602568, -0.10057371, -0.01520316, ...,  0.02490969,\n",
      "        -0.02066184,  0.00054252],\n",
      "       [ 0.07377686,  0.03582239, -0.01083454, ...,  0.04459793,\n",
      "        -0.00186886, -0.05803061],\n",
      "       [ 0.0507976 , -0.00362019, -0.05435033, ...,  0.06491785,\n",
      "         0.05592614, -0.01197723]], dtype=float32), 'query_label': array([[   0,    0,    0, ..., 3059, 3059, 3059]]), 'query_cam': array([[1, 1, 1, ..., 4, 6, 6]])}\n"
     ]
    }
   ],
   "source": [
    "print(mat)"
   ]
  },
  {
   "cell_type": "code",
   "execution_count": null,
   "id": "10feea01",
   "metadata": {},
   "outputs": [],
   "source": [
    "pri"
   ]
  }
 ],
 "metadata": {
  "kernelspec": {
   "display_name": "Python 3 (ipykernel)",
   "language": "python",
   "name": "python3"
  },
  "language_info": {
   "codemirror_mode": {
    "name": "ipython",
    "version": 3
   },
   "file_extension": ".py",
   "mimetype": "text/x-python",
   "name": "python",
   "nbconvert_exporter": "python",
   "pygments_lexer": "ipython3",
   "version": "3.9.7"
  }
 },
 "nbformat": 4,
 "nbformat_minor": 5
}
